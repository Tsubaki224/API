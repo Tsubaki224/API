{
  "nbformat": 4,
  "nbformat_minor": 0,
  "metadata": {
    "colab": {
      "provenance": [],
      "authorship_tag": "ABX9TyNZ1coSnuNm5m7DsfvvkuDo",
      "include_colab_link": true
    },
    "kernelspec": {
      "name": "python3",
      "display_name": "Python 3"
    },
    "language_info": {
      "name": "python"
    }
  },
  "cells": [
    {
      "cell_type": "markdown",
      "metadata": {
        "id": "view-in-github",
        "colab_type": "text"
      },
      "source": [
        "<a href=\"https://colab.research.google.com/github/Tsubaki224/API/blob/main/toukousuu.ipynb\" target=\"_parent\"><img src=\"https://colab.research.google.com/assets/colab-badge.svg\" alt=\"Open In Colab\"/></a>"
      ]
    },
    {
      "cell_type": "code",
      "execution_count": 1,
      "metadata": {
        "colab": {
          "base_uri": "https://localhost:8080/"
        },
        "id": "fCum4HLiZxAO",
        "outputId": "07e07715-7904-4823-f69f-05717d08cc1d"
      },
      "outputs": [
        {
          "output_type": "stream",
          "name": "stdout",
          "text": [
            "Request URL: https://graph.facebook.com/v19.0/17841469090011403?fields=business_discovery.username(starbucks_j){followers_count,media_count,media.limit(1){caption,media_url,like_count,comments_count}}&access_token=EAFT7joOHXzUBPF96pXUlxGRqKUcD7NEpQyFGVe5XadLhZCVZAHbq5GR32XLSUMqGP8YAs6URCjvUDrs71mMSO2P7cHqhaLEoclr4kJCByrNSiPoWS70wex5pDzBNjZC5xfInU9FZC4DPen3NSuNxSCrUFcofTgSlQgZAZCxDra4Ib095oljiORkguqGtjP96xti9wb\n",
            "\n",
            "--- @starbucks_j の公開情報 ---\n",
            "フォロワー数: 4005367\n",
            "投稿数: 2572\n",
            "\n",
            "--- 最新投稿の情報 ---\n",
            "キャプション: ゴロゴロとした白桃と、まろやかなミルクの風味が楽しめる #ピーチandミルクケーキ が登場🍑🥛\n",
            "\n",
            "コク深い風味の練乳クリームと軽い風味のミルクムースが重なり、ピーチの爽やかさを引き立てます💫\n",
            "\n",
            "みずみずしい夏にぴったりなケーキで、ご褒美タイムを過ごしてみませんか☺️\n",
            "\n",
            "#スターバックス\n",
            "いいね数: 14270\n",
            "コメント数: 21\n",
            "メディアURL: https://scontent-ord5-3.cdninstagram.com/v/t51.82787-15/518042977_18521236627022789_3630274800573447762_n.jpg?stp=dst-jpg_e35_tt6&_nc_cat=1&ccb=1-7&_nc_sid=18de74&_nc_ohc=OQ0EqOSQUWEQ7kNvwGr1WRm&_nc_oc=AdnDiM7-M4QFuXQBg4J9VmBGYSXH_ahBdoGl3ACQDzxPC8EwSzzrZDxFkxw7fvseniU&_nc_zt=23&_nc_ht=scontent-ord5-3.cdninstagram.com&edm=AL-3X8kEAAAA&_nc_gid=CJhvKW5w9F_6600YZzzC_w&oh=00_AfSHNyV9O4l_nIRV0uSLlHK_TgfFalVnthaTEPyK25kiqg&oe=6874FAD8\n",
            "パーマリンク: N/A\n"
          ]
        }
      ],
      "source": [
        "import requests\n",
        "import json\n",
        "\n",
        "# --- ★ここにあなたの情報を入力してください★ ---\n",
        "# 1. あなたの長期アクセストークン\n",
        "ACCESS_TOKEN = 'EAFT7joOHXzUBPF96pXUlxGRqKUcD7NEpQyFGVe5XadLhZCVZAHbq5GR32XLSUMqGP8YAs6URCjvUDrs71mMSO2P7cHqhaLEoclr4kJCByrNSiPoWS70wex5pDzBNjZC5xfInU9FZC4DPen3NSuNxSCrUFcofTgSlQgZAZCxDra4Ib095oljiORkguqGtjP96xti9wb'\n",
        "\n",
        "# 2. あなた自身のInstagramビジネスアカウントID\n",
        "YOUR_INSTAGRAM_BUSINESS_ACCOUNT_ID = '17841469090011403'\n",
        "\n",
        "# 3. 情報を取得したい他のビジネスアカウントのユーザー名\n",
        "#    例: 'starbucks_japan', 'google' など。必ず正確なユーザー名を入力してください。\n",
        "TARGET_USERNAME = 'starbucks_j'\n",
        "# -----------------------------------------------\n",
        "\n",
        "# APIのベースURL\n",
        "GRAPH_API_URL = \"https://graph.facebook.com/v19.0/\"\n",
        "\n",
        "# Business Discovery エンドポイントのリクエスト構築\n",
        "# followers_count (フォロワー数), media_count (投稿数) をリクエスト\n",
        "# media.limit(1){caption,media_url,like_count,comments_count} は最新の投稿1件の情報を取得する例\n",
        "# 必要に応じて fields を変更してください\n",
        "endpoint = (\n",
        "    f\"{YOUR_INSTAGRAM_BUSINESS_ACCOUNT_ID}?\"\n",
        "    f\"fields=business_discovery.username({TARGET_USERNAME}){{\"\n",
        "        f\"followers_count,media_count,\"\n",
        "        f\"media.limit(1){{caption,media_url,like_count,comments_count}}\"\n",
        "    f\"}}\"\n",
        "    f\"&access_token={ACCESS_TOKEN}\"\n",
        ")\n",
        "request_url = GRAPH_API_URL + endpoint\n",
        "\n",
        "print(f\"Request URL: {request_url}\")\n",
        "\n",
        "try:\n",
        "    response = requests.get(request_url)\n",
        "    response.raise_for_status() # HTTPエラーがあれば例外を発生させる\n",
        "    data = response.json()\n",
        "\n",
        "    # レスポンスの解析\n",
        "    if 'business_discovery' in data:\n",
        "        bd_data = data['business_discovery']\n",
        "        print(f\"\\n--- @{TARGET_USERNAME} の公開情報 ---\")\n",
        "        print(f\"フォロワー数: {bd_data.get('followers_count', 'N/A')}\")\n",
        "        print(f\"投稿数: {bd_data.get('media_count', 'N/A')}\")\n",
        "\n",
        "        if 'media' in bd_data and bd_data['media']['data']:\n",
        "            latest_media = bd_data['media']['data'][0]\n",
        "            print(\"\\n--- 最新投稿の情報 ---\")\n",
        "            print(f\"キャプション: {latest_media.get('caption', 'N/A')}\")\n",
        "            print(f\"いいね数: {latest_media.get('like_count', 'N/A')}\")\n",
        "            print(f\"コメント数: {latest_media.get('comments_count', 'N/A')}\")\n",
        "            print(f\"メディアURL: {latest_media.get('media_url', 'N/A')}\")\n",
        "            print(f\"パーマリンク: {latest_media.get('permalink', 'N/A')}\")\n",
        "        else:\n",
        "            print(\"\\n最新投稿の情報を取得できませんでした。（公開投稿がないか、制限に達した可能性があります。）\")\n",
        "    else:\n",
        "        print(\"\\n指定されたビジネスアカウントの情報が見つからないか、取得できませんでした。\")\n",
        "        print(\"（対象がビジネス/クリエイターアカウントではない、非公開アカウントである、ユーザー名が間違っているなどの可能性があります。）\")\n",
        "        print(\"レスポンス:\", data)\n",
        "\n",
        "except requests.exceptions.RequestException as e:\n",
        "    print(f\"\\nAPIリクエスト中にエラーが発生しました: {e}\")\n",
        "    if response:\n",
        "        print(f\"レスポンスステータスコード: {response.status_code}\")\n",
        "        print(f\"レスポンス内容: {response.text}\")\n",
        "except json.JSONDecodeError:\n",
        "    print(f\"\\nJSONのデコードに失敗しました。レスポンス内容: {response.text}\")\n",
        "except Exception as e:\n",
        "    print(f\"\\n予期せぬエラーが発生しました: {e}\")"
      ]
    }
  ]
}