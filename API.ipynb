{
  "nbformat": 4,
  "nbformat_minor": 0,
  "metadata": {
    "colab": {
      "provenance": [],
      "include_colab_link": true
    },
    "kernelspec": {
      "name": "python3",
      "display_name": "Python 3"
    },
    "language_info": {
      "name": "python"
    }
  },
  "cells": [
    {
      "cell_type": "markdown",
      "metadata": {
        "id": "view-in-github",
        "colab_type": "text"
      },
      "source": [
        "<a href=\"https://colab.research.google.com/github/Tsubaki224/API/blob/main/API.ipynb\" target=\"_parent\"><img src=\"https://colab.research.google.com/assets/colab-badge.svg\" alt=\"Open In Colab\"/></a>"
      ]
    },
    {
      "cell_type": "code",
      "source": [
        "%%javascript\n",
        "const instaBusinessId = '17841469090011403';\n",
        "const accessToken = 'EAFT7joOHXzUBPF96pXUlxGRqKUcD7NEpQyFGVe5XadLhZCVZAHbq5GR32XLSUMqGP8YAs6URCjvUDrs71mMSO2P7cHqhaLEoclr4kJCByzNSiPoWS70wex5pDzBNjZC5xfInU9FZC4DPen3NSuNxSCxUFcofTgSlQgZAZCxDra4Ib095oljiORkguqGtjP96xti9wb';\n",
        "const instaAccountName = 'bluebottle'; //取得したいアカウントID名\n",
        "\n",
        "// ビジネスディスカバリーAPIを叩く関数\n",
        "async function businessDiscoveryApi() {\n",
        "\n",
        " const url = `https://graph.facebook.com/v17.0/${instaBusinessId}?fields=business_discovery.username(${instaAccountName})%7Bfollowers_count,media_count,media.limit%2810%29%7Bcaption,media_url,permalink,timestamp,username,children%7Bmedia_url%7D%7D%7D&access_token=${accessToken}`;\n",
        " const response = await instagramApi(url,'GET','');\n",
        " try {\n",
        "  if (response) {\n",
        "   const data = JSON.parse(response); // fetchの場合はresponseそのものが文字列ではない\n",
        "   console.log(data); //返り値①\n",
        "   console.log(data.business_discovery.media.data); //返り値②\n",
        "  return data;\n",
        "  } else {\n",
        "  console.error('Instagram APIのリクエストでエラーが発生しました。');\n",
        "  return null;\n",
        "  }\n",
        " } catch (error) {\n",
        "  console.error('Instagram APIのレスポンスの解析中にエラーが発生しました:', error);\n",
        "  return null;\n",
        " }\n",
        "}\n",
        "\n",
        "// APIを叩く関数\n",
        "async function instagramApi(url, method, payload) {\n",
        " try {\n",
        "  const headers = {\n",
        "  'Authorization': 'Bearer ' + accessToken\n",
        " };\n",
        " const options = {\n",
        "  method: method,\n",
        "  headers: headers,\n",
        "  body: payload\n",
        " };\n",
        " console.log('url',url)\n",
        " const response = await fetch(url, options);\n",
        " if (!response.ok) {\n",
        "            throw new Error(`HTTP error! status: ${response.status}`);\n",
        "        }\n",
        "  const data = await response.text(); // fetchの場合はresponse.text()で文字列を取得\n",
        " return data;\n",
        " } catch (error) {\n",
        "  console.error('Instagram APIのリクエスト中にエラーが発生しました:', error);\n",
        "  return null;\n",
        " }\n",
        "}\n",
        "\n",
        "businessDiscoveryApi(); // 関数を呼び出す"
      ],
      "metadata": {
        "colab": {
          "base_uri": "https://localhost:8080/",
          "height": 17
        },
        "id": "KwyYtNl69xfq",
        "outputId": "bbb1edab-4788-4104-b58a-4284171a6761"
      },
      "execution_count": 8,
      "outputs": [
        {
          "output_type": "display_data",
          "data": {
            "text/plain": [
              "<IPython.core.display.Javascript object>"
            ],
            "application/javascript": [
              "const instaBusinessId = '17841469090011403';\n",
              "const accessToken = 'EAFT7joOHXzUBPF96pXUlxGRqKUcD7NEpQyFGVe5XadLhZCVZAHbq5GR32XLSUMqGP8YAs6URCjvUDrs71mMSO2P7cHqhaLEoclr4kJCByzNSiPoWS70wex5pDzBNjZC5xfInU9FZC4DPen3NSuNxSCxUFcofTgSlQgZAZCxDra4Ib095oljiORkguqGtjP96xti9wb';\n",
              "const instaAccountName = 'bluebottle'; //取得したいアカウントID名\n",
              "\n",
              "// ビジネスディスカバリーAPIを叩く関数\n",
              "async function businessDiscoveryApi() {\n",
              "\n",
              " const url = `https://graph.facebook.com/v17.0/${instaBusinessId}?fields=business_discovery.username(${instaAccountName})%7Bfollowers_count,media_count,media.limit%2810%29%7Bcaption,media_url,permalink,timestamp,username,children%7Bmedia_url%7D%7D%7D&access_token=${accessToken}`;\n",
              " const response = await instagramApi(url,'GET','');\n",
              " try {\n",
              "  if (response) {\n",
              "   const data = JSON.parse(response); // fetchの場合はresponseそのものが文字列ではない\n",
              "   console.log(data); //返り値①\n",
              "   console.log(data.business_discovery.media.data); //返り値②\n",
              "  return data;\n",
              "  } else {\n",
              "  console.error('Instagram APIのリクエストでエラーが発生しました。');\n",
              "  return null;\n",
              "  }\n",
              " } catch (error) {\n",
              "  console.error('Instagram APIのレスポンスの解析中にエラーが発生しました:', error);\n",
              "  return null;\n",
              " }\n",
              "}\n",
              "\n",
              "// APIを叩く関数\n",
              "async function instagramApi(url, method, payload) {\n",
              " try {\n",
              "  const headers = {\n",
              "  'Authorization': 'Bearer ' + accessToken\n",
              " };\n",
              " const options = {\n",
              "  method: method,\n",
              "  headers: headers,\n",
              "  body: payload\n",
              " };\n",
              " console.log('url',url)\n",
              " const response = await fetch(url, options);\n",
              " if (!response.ok) {\n",
              "            throw new Error(`HTTP error! status: ${response.status}`);\n",
              "        }\n",
              "  const data = await response.text(); // fetchの場合はresponse.text()で文字列を取得\n",
              " return data;\n",
              " } catch (error) {\n",
              "  console.error('Instagram APIのリクエスト中にエラーが発生しました:', error);\n",
              "  return null;\n",
              " }\n",
              "}\n",
              "\n",
              "businessDiscoveryApi(); // 関数を呼び出す\n"
            ]
          },
          "metadata": {}
        }
      ]
    }
  ]
}