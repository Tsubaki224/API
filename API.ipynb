{
  "nbformat": 4,
  "nbformat_minor": 0,
  "metadata": {
    "colab": {
      "provenance": [],
      "authorship_tag": "ABX9TyOIty6RhhP0CcKmKMXF7JEg",
      "include_colab_link": true
    },
    "kernelspec": {
      "name": "python3",
      "display_name": "Python 3"
    },
    "language_info": {
      "name": "python"
    }
  },
  "cells": [
    {
      "cell_type": "markdown",
      "metadata": {
        "id": "view-in-github",
        "colab_type": "text"
      },
      "source": [
        "<a href=\"https://colab.research.google.com/github/Tsubaki224/API/blob/main/API.ipynb\" target=\"_parent\"><img src=\"https://colab.research.google.com/assets/colab-badge.svg\" alt=\"Open In Colab\"/></a>"
      ]
    },
    {
      "cell_type": "code",
      "source": [
        "import requests\n",
        "\n",
        "# 必要な情報をセット\n",
        "access_token = 'EAAdf5mBKZAHsBO6FzADVvZCuzvImaIiN4ClxQCkuUAUN2xhHIy4nguO64xs1RIr8I2rEj8FP25nP3OTqVt2xBz1rNJAY0be9kSIMkqUCHnmi7H6J8CEBkAFYL8xuBpdlC33hiBsSRnLn1N1iZBPJu06B51jcRWQeUF5xocV346vS4hed9FUo85TWcfoZCpDTj9GlJ3YUf0TTNg5NRZC5M2L5sVwPF7aTVSpPp'  # ← Graph API Explorerなどで取得\n",
        "your_ig_business_id = ''\n",
        "target_username = 'kirarisetouchi'\n",
        "\n",
        "# APIリクエスト用URL\n",
        "url = f\"https://graph.facebook.com/v19.0/{your_ig_business_id}\"\n",
        "\n",
        "# 投稿数だけ取得するためのfields指定\n",
        "params = {\n",
        "    'fields': f'business_discovery.username({target_username}){{media_count}}',\n",
        "    'access_token': access_token\n",
        "}\n",
        "\n",
        "# APIにGETリクエスト\n",
        "response = requests.get(url, params=params)\n",
        "\n",
        "# 結果表示\n",
        "if response.status_code == 200:\n",
        "    data = response.json()\n",
        "    post_count = data['business_discovery']['media_count']\n",
        "    print(f\"{target_username} の投稿数: {post_count}\")\n",
        "else:\n",
        "    print(f\"エラーが発生しました: {response.status_code}\")\n",
        "    print(response.text)\n"
      ],
      "metadata": {
        "colab": {
          "base_uri": "https://localhost:8080/"
        },
        "id": "KwyYtNl69xfq",
        "outputId": "e609b98d-5d11-4434-95da-a934c06585ab"
      },
      "execution_count": 1,
      "outputs": [
        {
          "output_type": "stream",
          "name": "stdout",
          "text": [
            "エラーが発生しました: 400\n",
            "{\"error\":{\"message\":\"Unsupported get request. Object with ID 'tsuba_sa868' does not exist, cannot be loaded due to missing permissions, or does not support this operation. Please read the Graph API documentation at https:\\/\\/developers.facebook.com\\/docs\\/graph-api\",\"type\":\"GraphMethodException\",\"code\":100,\"error_subcode\":33,\"fbtrace_id\":\"ALuyojLRA60Z_HAz1-UyIuX\"}}\n"
          ]
        }
      ]
    }
  ]
}