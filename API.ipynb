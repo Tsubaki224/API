{
  "nbformat": 4,
  "nbformat_minor": 0,
  "metadata": {
    "colab": {
      "provenance": [],
      "authorship_tag": "ABX9TyOpufX+3+OGk2xWlpB9WZUG",
      "include_colab_link": true
    },
    "kernelspec": {
      "name": "python3",
      "display_name": "Python 3"
    },
    "language_info": {
      "name": "python"
    }
  },
  "cells": [
    {
      "cell_type": "markdown",
      "metadata": {
        "id": "view-in-github",
        "colab_type": "text"
      },
      "source": [
        "<a href=\"https://colab.research.google.com/github/Tsubaki224/API/blob/main/API.ipynb\" target=\"_parent\"><img src=\"https://colab.research.google.com/assets/colab-badge.svg\" alt=\"Open In Colab\"/></a>"
      ]
    },
    {
      "cell_type": "code",
      "execution_count": 1,
      "metadata": {
        "colab": {
          "base_uri": "https://localhost:8080/"
        },
        "id": "LSXQpN5FeqRe",
        "outputId": "bdf26b73-1fbc-477d-cac8-0cf2f1c2230e"
      },
      "outputs": [
        {
          "output_type": "stream",
          "name": "stdout",
          "text": [
            "Hello, Colab!\n",
            "10 + 20 = 30\n"
          ]
        }
      ],
      "source": [
        "print(\"Hello, Colab!\")\n",
        "a = 10\n",
        "b = 20\n",
        "c = a + b\n",
        "print(f\"10 + 20 = {c}\")"
      ]
    }
  ]
}